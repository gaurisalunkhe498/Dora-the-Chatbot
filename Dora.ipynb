{
 "cells": [
  {
   "cell_type": "code",
   "execution_count": 37,
   "metadata": {
    "colab": {
     "base_uri": "https://localhost:8080/"
    },
    "id": "5iTjl94jp1ow",
    "outputId": "a82d90a3-bb62-42ef-9c65-9e4beeea849b"
   },
   "outputs": [
    {
     "name": "stderr",
     "output_type": "stream",
     "text": [
      "[nltk_data] Downloading package omw-1.4 to /root/nltk_data...\n",
      "[nltk_data]   Unzipping corpora/omw-1.4.zip.\n"
     ]
    }
   ],
   "source": [
    "import numpy as np\n",
    "import nltk\n",
    "nltk.download('omw-1.4')\n",
    "import string\n",
    "import random"
   ]
  },
  {
   "cell_type": "code",
   "execution_count": 38,
   "metadata": {
    "colab": {
     "base_uri": "https://localhost:8080/"
    },
    "id": "i1gOX0drwphU",
    "outputId": "7f20221d-8e7a-4e27-d3e4-4dafb283f45d"
   },
   "outputs": [
    {
     "name": "stderr",
     "output_type": "stream",
     "text": [
      "[nltk_data] Downloading package punkt to /root/nltk_data...\n",
      "[nltk_data]   Package punkt is already up-to-date!\n",
      "[nltk_data] Downloading package wordnet to /root/nltk_data...\n",
      "[nltk_data]   Package wordnet is already up-to-date!\n"
     ]
    }
   ],
   "source": [
    "f=open('chatbot.txt', 'r', errors='ignore')\n",
    "raw_doc=f.read()\n",
    "raw_doc=raw_doc.lower() #coverts text to lowercase\n",
    "nltk.download('punkt') #Punkt tokenizer\n",
    "nltk.download('wordnet') #Wordnet dictionary\n",
    "sent_tokens = nltk.sent_tokenize(raw_doc) #coverts doc to list of senetnces\n",
    "word_tokens = nltk.word_tokenize(raw_doc)#coverts doc to list of word"
   ]
  },
  {
   "cell_type": "code",
   "execution_count": 39,
   "metadata": {
    "colab": {
     "base_uri": "https://localhost:8080/"
    },
    "id": "0046VivUyDQ1",
    "outputId": "6087de86-b345-4d55-b926-551c11b05628"
   },
   "outputs": [
    {
     "data": {
      "text/plain": [
       "['california state university, east bay (cal state east bay, csu east bay, or csueb) is a public university in hayward, california.',\n",
       " 'the university is part of the 23-campus california state university system and offers 136 undergraduate and 60 post-baccalaureate areas of study.']"
      ]
     },
     "execution_count": 39,
     "metadata": {},
     "output_type": "execute_result"
    }
   ],
   "source": [
    "sent_tokens[:2]"
   ]
  },
  {
   "cell_type": "code",
   "execution_count": 40,
   "metadata": {
    "colab": {
     "base_uri": "https://localhost:8080/"
    },
    "id": "qAsrhnE_zW7E",
    "outputId": "d3b3cc71-42d0-4af3-8958-aebe9f4601c2"
   },
   "outputs": [
    {
     "data": {
      "text/plain": [
       "['california', 'state']"
      ]
     },
     "execution_count": 40,
     "metadata": {},
     "output_type": "execute_result"
    }
   ],
   "source": [
    "word_tokens[:2]"
   ]
  },
  {
   "cell_type": "code",
   "execution_count": 41,
   "metadata": {
    "id": "nSxJBL6bzdfL"
   },
   "outputs": [],
   "source": [
    "#text preprocessing\n",
    "lemmer = nltk.stem.WordNetLemmatizer()\n",
    "#WordNet- dictionary in NLTK - Sementically oriented\n",
    "def LemTokens(tokens):\n",
    "  return[lemmer.lemmatize(token) for token in tokens]\n",
    "remove_punct_dict =dict((ord(punct),None) for punct in string.punctuation)\n",
    "def LemNormalize(text):\n",
    "  return LemTokens(nltk.word_tokenize(text.lower().translate(remove_punct_dict)))"
   ]
  },
  {
   "cell_type": "code",
   "execution_count": 42,
   "metadata": {
    "id": "kBHeCDoy1r_6"
   },
   "outputs": [],
   "source": [
    "#defining the greeting functions\n",
    "GREET_INPUTS=(\"hello\", \"hi\", \"greetings\", \"sup\", \"what's up\", \"hey\",)\n",
    "GREET_RESPONSES =[\"hi\",\"hola\", \"namaste\", \"hi there\", \"*nods*\", \"hello\",\"I am glad! You are taking to me\",]\n",
    "def greet(sentence):\n",
    "  for word in sentence.split():\n",
    "    if word.lower() in GREET_INPUTS:\n",
    "      return random.choice(GREET_RESPONSES)"
   ]
  },
  {
   "cell_type": "code",
   "execution_count": 43,
   "metadata": {
    "id": "fC6dilWu4U2f"
   },
   "outputs": [],
   "source": [
    "#response generation\n",
    "from sklearn.feature_extraction.text import TfidfVectorizer\n",
    "from sklearn.metrics.pairwise import cosine_similarity"
   ]
  },
  {
   "cell_type": "code",
   "execution_count": 44,
   "metadata": {
    "id": "19nEdKNr4-Em"
   },
   "outputs": [],
   "source": [
    "def response(user_response):\n",
    "  robo1_response=''\n",
    "  TfidfVec= TfidfVectorizer(tokenizer=LemNormalize, stop_words='english')\n",
    "  tfidf = TfidfVec.fit_transform(sent_tokens)\n",
    "  vals = cosine_similarity(tfidf[-1],tfidf)\n",
    "  idx=vals.argsort()[0][-2]\n",
    "  flat = vals.flatten()\n",
    "  flat.sort()\n",
    "  req_tfidf = flat[-2]\n",
    "  if(req_tfidf==0):\n",
    "    robo1_response=robo1_response+\"I am sorry! I don't understand you\"\n",
    "    return robo1_response\n",
    "  else:\n",
    "    robo1_response=robo1_response+sent_tokens[idx]\n",
    "    return robo1_response"
   ]
  },
  {
   "cell_type": "code",
   "execution_count": 50,
   "metadata": {
    "colab": {
     "base_uri": "https://localhost:8080/"
    },
    "id": "GAb7dFwA7HxR",
    "outputId": "034d24d0-7b75-4830-f699-18ffef30543d"
   },
   "outputs": [
    {
     "name": "stdout",
     "output_type": "stream",
     "text": [
      "DORA: My Name is Dora. Let's have a conversation!, and if you want to exit any time, just type Bye Dora\n",
      "how are you\n",
      "DORA: Good! Thanks for asking.\n",
      "tell me about university\n",
      "DORA:held in cooperation with the university of california, berkeley, san francisco state university and san josé state university.\n",
      "thanks\n",
      "DORA: You're welcome!\n"
     ]
    }
   ],
   "source": [
    "import warnings\n",
    "warnings.filterwarnings(\"ignore\")\n",
    "flag=True\n",
    "print(\"DORA: My Name is Dora. Let's have a conversation!, and if you want to exit any time, just type Bye Dora\")\n",
    "while(flag==True):\n",
    "  user_response = input()\n",
    "  user_response= user_response.lower()\n",
    "  if(user_response!='bye dora'):\n",
    "    if(user_response=='thanks' or user_response=='thank you'):\n",
    "      flag=False\n",
    "      print(\"DORA: You're welcome!\")\n",
    "    else:\n",
    "      if(greet(user_response)!=None):\n",
    "        print(\"DORA: \"+greet(user_response))\n",
    "      elif(user_response=='how are you' or user_response=='how you doing'):\n",
    "        print(\"DORA: Good! Thanks for asking.\")\n",
    "      else:\n",
    "        sent_tokens.append(user_response)\n",
    "        word_tokens=word_tokens+nltk.word_tokenize(user_response)\n",
    "        final_words=list(set(word_tokens))\n",
    "        print(\"DORA:\",end=\"\")\n",
    "        print(response(user_response))\n",
    "        sent_tokens.remove(user_response)\n",
    "  else:\n",
    "    flag=False\n",
    "    print(\"DORA: Goodbye! See you again!\")"
   ]
  }
 ],
 "metadata": {
  "colab": {
   "name": "Dora.ipynb",
   "provenance": []
  },
  "kernelspec": {
   "display_name": "Python 3 (ipykernel)",
   "language": "python",
   "name": "python3"
  },
  "language_info": {
   "codemirror_mode": {
    "name": "ipython",
    "version": 3
   },
   "file_extension": ".py",
   "mimetype": "text/x-python",
   "name": "python",
   "nbconvert_exporter": "python",
   "pygments_lexer": "ipython3",
   "version": "3.10.5"
  }
 },
 "nbformat": 4,
 "nbformat_minor": 1
}
